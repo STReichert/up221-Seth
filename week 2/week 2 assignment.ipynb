{
 "cells": [
  {
   "attachments": {},
   "cell_type": "markdown",
   "id": "d9ba1f59-d4b5-4b58-958b-8f4574e041e8",
   "metadata": {},
   "source": [
    "# Urban Displacement Project Data Exploration\n",
    "\n",
    "The Urban Displacement Project used data about the change of neighborhood demographics to create a typology to describe the risk of gentrification and displacement of lower income communities. This notebook includes pulling the data into a dataframe, and running some brief exploration on the data to see how large it is, and what types of categories are present in the data.\n",
    "\n",
    "The following cell pulls in the necessary libraries to work with the data (pandas and geopandas) both of which read data in a tabular way for analysis."
   ]
  },
  {
   "cell_type": "code",
   "execution_count": 1,
   "id": "5550b258-1e18-467c-8d87-8198ee97c531",
   "metadata": {},
   "outputs": [],
   "source": [
    "import pandas as pd\n",
    "import geopandas as gpd"
   ]
  },
  {
   "attachments": {},
   "cell_type": "markdown",
   "id": "13489ede-615c-4ba1-98c1-997b7ca258b2",
   "metadata": {},
   "source": [
    "### Read data to to data frame\n",
    "\n",
    "Because the data is held as a geopackage we must read the file with geopandas.\n",
    "I then call the `.head()` method to see the first rows of the dataframe"
   ]
  },
  {
   "cell_type": "code",
   "execution_count": 28,
   "id": "8d54e896-99e6-447e-b469-2f768fbc5827",
   "metadata": {},
   "outputs": [
    {
     "data": {
      "text/html": [
       "<div>\n",
       "<style scoped>\n",
       "    .dataframe tbody tr th:only-of-type {\n",
       "        vertical-align: middle;\n",
       "    }\n",
       "\n",
       "    .dataframe tbody tr th {\n",
       "        vertical-align: top;\n",
       "    }\n",
       "\n",
       "    .dataframe thead th {\n",
       "        text-align: right;\n",
       "    }\n",
       "</style>\n",
       "<table border=\"1\" class=\"dataframe\">\n",
       "  <thead>\n",
       "    <tr style=\"text-align: right;\">\n",
       "      <th></th>\n",
       "      <th>GEOID</th>\n",
       "      <th>Typology</th>\n",
       "      <th>geometry</th>\n",
       "    </tr>\n",
       "  </thead>\n",
       "  <tbody>\n",
       "    <tr>\n",
       "      <th>0</th>\n",
       "      <td>6.037129e+09</td>\n",
       "      <td>Stable Moderate/Mixed Income</td>\n",
       "      <td>MULTIPOLYGON (((-118.44870 34.16486, -118.4399...</td>\n",
       "    </tr>\n",
       "    <tr>\n",
       "      <th>1</th>\n",
       "      <td>6.037132e+09</td>\n",
       "      <td>Stable Moderate/Mixed Income</td>\n",
       "      <td>MULTIPOLYGON (((-118.56229 34.22033, -118.5535...</td>\n",
       "    </tr>\n",
       "    <tr>\n",
       "      <th>2</th>\n",
       "      <td>6.037134e+09</td>\n",
       "      <td>At Risk of Becoming Exclusive</td>\n",
       "      <td>MULTIPOLYGON (((-118.57103 34.21559, -118.5710...</td>\n",
       "    </tr>\n",
       "    <tr>\n",
       "      <th>3</th>\n",
       "      <td>6.037134e+09</td>\n",
       "      <td>Advanced Gentrification</td>\n",
       "      <td>MULTIPOLYGON (((-118.61472 34.21952, -118.6059...</td>\n",
       "    </tr>\n",
       "    <tr>\n",
       "      <th>4</th>\n",
       "      <td>6.037242e+09</td>\n",
       "      <td>Low-Income/Susceptible to Displacement</td>\n",
       "      <td>MULTIPOLYGON (((-118.25413 33.94187, -118.2536...</td>\n",
       "    </tr>\n",
       "  </tbody>\n",
       "</table>\n",
       "</div>"
      ],
      "text/plain": [
       "          GEOID                                Typology  \\\n",
       "0  6.037129e+09            Stable Moderate/Mixed Income   \n",
       "1  6.037132e+09            Stable Moderate/Mixed Income   \n",
       "2  6.037134e+09           At Risk of Becoming Exclusive   \n",
       "3  6.037134e+09                 Advanced Gentrification   \n",
       "4  6.037242e+09  Low-Income/Susceptible to Displacement   \n",
       "\n",
       "                                            geometry  \n",
       "0  MULTIPOLYGON (((-118.44870 34.16486, -118.4399...  \n",
       "1  MULTIPOLYGON (((-118.56229 34.22033, -118.5535...  \n",
       "2  MULTIPOLYGON (((-118.57103 34.21559, -118.5710...  \n",
       "3  MULTIPOLYGON (((-118.61472 34.21952, -118.6059...  \n",
       "4  MULTIPOLYGON (((-118.25413 33.94187, -118.2536...  "
      ]
     },
     "execution_count": 28,
     "metadata": {},
     "output_type": "execute_result"
    }
   ],
   "source": [
    "gdf = gpd.read_file('losangeles.gpkg', epsg='4326')\n",
    "gdf.head()"
   ]
  },
  {
   "attachments": {},
   "cell_type": "markdown",
   "id": "bb51b1e4",
   "metadata": {},
   "source": [
    "The head method shows that the data is in a format of a typology field (almost definitely a string), a polygon geometry for each, and a GEOID to record unique records."
   ]
  },
  {
   "attachments": {},
   "cell_type": "markdown",
   "id": "62d09779-4a00-465e-85ce-640869128090",
   "metadata": {},
   "source": [
    "### Data Exploration\n",
    "\n",
    "Next we will explore more about the datatypes and other detail in the dataframe"
   ]
  },
  {
   "cell_type": "code",
   "execution_count": 3,
   "id": "c6a932f0",
   "metadata": {},
   "outputs": [
    {
     "name": "stdout",
     "output_type": "stream",
     "text": [
      "<class 'geopandas.geodataframe.GeoDataFrame'>\n",
      "RangeIndex: 3545 entries, 0 to 3544\n",
      "Data columns (total 3 columns):\n",
      " #   Column    Non-Null Count  Dtype   \n",
      "---  ------    --------------  -----   \n",
      " 0   GEOID     3545 non-null   float64 \n",
      " 1   Typology  3545 non-null   object  \n",
      " 2   geometry  3545 non-null   geometry\n",
      "dtypes: float64(1), geometry(1), object(1)\n",
      "memory usage: 83.2+ KB\n"
     ]
    }
   ],
   "source": [
    "gdf.info()"
   ]
  },
  {
   "attachments": {},
   "cell_type": "markdown",
   "id": "9b80c011",
   "metadata": {},
   "source": [
    "The data includes the three columns, including a float for the GEOID, an object (string) field that is the typology, and a geopandas specific datatype (geometry) that is useful for mapping.\n",
    "\n",
    "Next we will explore the shape of the data to determine the number of records in the data. This would also be useful if we had more columns to understand the full extend of the number of columns."
   ]
  },
  {
   "cell_type": "code",
   "execution_count": 5,
   "id": "e5523305",
   "metadata": {},
   "outputs": [
    {
     "data": {
      "text/plain": [
       "(3545, 3)"
      ]
     },
     "execution_count": 5,
     "metadata": {},
     "output_type": "execute_result"
    }
   ],
   "source": [
    "gdf.shape"
   ]
  },
  {
   "attachments": {},
   "cell_type": "markdown",
   "id": "06f19ddc",
   "metadata": {},
   "source": [
    "The data has 3545 records and the three columns that we have been discussing!\n",
    "\n",
    "But how many records are in each typology? We can use the `.value_counts()` method to see what the typologies are and how many records are in each typology."
   ]
  },
  {
   "cell_type": "code",
   "execution_count": 6,
   "id": "00c98205",
   "metadata": {},
   "outputs": [
    {
     "data": {
      "text/plain": [
       "Stable Moderate/Mixed Income              792\n",
       "Low-Income/Susceptible to Displacement    695\n",
       "Stable/Advanced Exclusive                 675\n",
       "At Risk of Becoming Exclusive             570\n",
       "Early/Ongoing Gentrification              208\n",
       "Advanced Gentrification                   174\n",
       "Becoming Exclusive                        157\n",
       "Ongoing Displacement                      118\n",
       "Unavailable or Unreliable Data             54\n",
       "At Risk of Gentrification                  52\n",
       "High Student Population                    50\n",
       "Name: Typology, dtype: int64"
      ]
     },
     "execution_count": 6,
     "metadata": {},
     "output_type": "execute_result"
    }
   ],
   "source": [
    "gdf['Typology'].value_counts()"
   ]
  },
  {
   "attachments": {},
   "cell_type": "markdown",
   "id": "9884f9c1",
   "metadata": {},
   "source": [
    "This shows us how many polygon areas in the data are in each category. Based upon the methodolgy that the Urban Displacement Project provides, these areas are at least fairly consistent with census tracts. Therefore this can be understood as the number of census tracts in each category. Most are have stability, but a large number are susceptible to displacement. \n",
    "\n",
    "To visualize this data differently, we can plot this data on a bar plot to better compare across categories."
   ]
  },
  {
   "cell_type": "code",
   "execution_count": 10,
   "id": "026b4bea",
   "metadata": {},
   "outputs": [
    {
     "data": {
      "text/plain": [
       "<AxesSubplot:>"
      ]
     },
     "execution_count": 10,
     "metadata": {},
     "output_type": "execute_result"
    },
    {
     "data": {
      "image/png": "[encoded data removed]",
      "text/plain": [
       "<Figure size 432x288 with 1 Axes>"
      ]
     },
     "metadata": {
      "needs_background": "light"
     },
     "output_type": "display_data"
    }
   ],
   "source": [
    "gdf['Typology'].value_counts().plot(kind='bar')"
   ]
  },
  {
   "attachments": {},
   "cell_type": "markdown",
   "id": "b9ee46d1",
   "metadata": {},
   "source": [
    "This shows us a graphic way to view the counts of tracts in the given category assigned. But what do we do if we want to only look at data from a subset of categories\n",
    "\n",
    "We can filter the dataframe to select only records that we are interested. In the case below we will filter the dataframe to only look at records that are in the categories relating to Gentrification. The three stages shown in this data are At Rist, Early/Ongoing, and Advanced. "
   ]
  },
  {
   "cell_type": "code",
   "execution_count": 27,
   "id": "9612feb7",
   "metadata": {},
   "outputs": [
    {
     "data": {
      "text/html": [
       "<div>\n",
       "<style scoped>\n",
       "    .dataframe tbody tr th:only-of-type {\n",
       "        vertical-align: middle;\n",
       "    }\n",
       "\n",
       "    .dataframe tbody tr th {\n",
       "        vertical-align: top;\n",
       "    }\n",
       "\n",
       "    .dataframe thead th {\n",
       "        text-align: right;\n",
       "    }\n",
       "</style>\n",
       "<table border=\"1\" class=\"dataframe\">\n",
       "  <thead>\n",
       "    <tr style=\"text-align: right;\">\n",
       "      <th></th>\n",
       "      <th>GEOID</th>\n",
       "      <th>Typology</th>\n",
       "      <th>geometry</th>\n",
       "    </tr>\n",
       "  </thead>\n",
       "  <tbody>\n",
       "    <tr>\n",
       "      <th>3</th>\n",
       "      <td>6.037134e+09</td>\n",
       "      <td>Advanced Gentrification</td>\n",
       "      <td>MULTIPOLYGON (((-118.61472 34.21952, -118.6059...</td>\n",
       "    </tr>\n",
       "    <tr>\n",
       "      <th>10</th>\n",
       "      <td>6.037270e+09</td>\n",
       "      <td>Advanced Gentrification</td>\n",
       "      <td>MULTIPOLYGON (((-118.37721 34.03824, -118.3772...</td>\n",
       "    </tr>\n",
       "    <tr>\n",
       "      <th>16</th>\n",
       "      <td>6.037294e+09</td>\n",
       "      <td>Advanced Gentrification</td>\n",
       "      <td>MULTIPOLYGON (((-118.29592 33.79778, -118.2889...</td>\n",
       "    </tr>\n",
       "    <tr>\n",
       "      <th>22</th>\n",
       "      <td>6.037302e+09</td>\n",
       "      <td>Advanced Gentrification</td>\n",
       "      <td>MULTIPOLYGON (((-118.26426 34.14681, -118.2577...</td>\n",
       "    </tr>\n",
       "    <tr>\n",
       "      <th>25</th>\n",
       "      <td>6.037401e+09</td>\n",
       "      <td>Advanced Gentrification</td>\n",
       "      <td>MULTIPOLYGON (((-117.90895 34.14664, -117.9071...</td>\n",
       "    </tr>\n",
       "    <tr>\n",
       "      <th>...</th>\n",
       "      <td>...</td>\n",
       "      <td>...</td>\n",
       "      <td>...</td>\n",
       "    </tr>\n",
       "    <tr>\n",
       "      <th>3494</th>\n",
       "      <td>6.037191e+09</td>\n",
       "      <td>Early/Ongoing Gentrification</td>\n",
       "      <td>MULTIPOLYGON (((-118.30921 34.09489, -118.3056...</td>\n",
       "    </tr>\n",
       "    <tr>\n",
       "      <th>3522</th>\n",
       "      <td>6.037121e+09</td>\n",
       "      <td>Early/Ongoing Gentrification</td>\n",
       "      <td>MULTIPOLYGON (((-118.37179 34.22357, -118.3661...</td>\n",
       "    </tr>\n",
       "    <tr>\n",
       "      <th>3531</th>\n",
       "      <td>6.037128e+09</td>\n",
       "      <td>Early/Ongoing Gentrification</td>\n",
       "      <td>MULTIPOLYGON (((-118.43998 34.18666, -118.4312...</td>\n",
       "    </tr>\n",
       "    <tr>\n",
       "      <th>3534</th>\n",
       "      <td>6.037105e+09</td>\n",
       "      <td>Advanced Gentrification</td>\n",
       "      <td>MULTIPOLYGON (((-118.42266 34.24984, -118.4193...</td>\n",
       "    </tr>\n",
       "    <tr>\n",
       "      <th>3538</th>\n",
       "      <td>6.073022e+09</td>\n",
       "      <td>At Risk of Gentrification</td>\n",
       "      <td>MULTIPOLYGON (((-117.12567 32.67917, -117.1249...</td>\n",
       "    </tr>\n",
       "  </tbody>\n",
       "</table>\n",
       "<p>434 rows × 3 columns</p>\n",
       "</div>"
      ],
      "text/plain": [
       "             GEOID                      Typology  \\\n",
       "3     6.037134e+09       Advanced Gentrification   \n",
       "10    6.037270e+09       Advanced Gentrification   \n",
       "16    6.037294e+09       Advanced Gentrification   \n",
       "22    6.037302e+09       Advanced Gentrification   \n",
       "25    6.037401e+09       Advanced Gentrification   \n",
       "...            ...                           ...   \n",
       "3494  6.037191e+09  Early/Ongoing Gentrification   \n",
       "3522  6.037121e+09  Early/Ongoing Gentrification   \n",
       "3531  6.037128e+09  Early/Ongoing Gentrification   \n",
       "3534  6.037105e+09       Advanced Gentrification   \n",
       "3538  6.073022e+09     At Risk of Gentrification   \n",
       "\n",
       "                                               geometry  \n",
       "3     MULTIPOLYGON (((-118.61472 34.21952, -118.6059...  \n",
       "10    MULTIPOLYGON (((-118.37721 34.03824, -118.3772...  \n",
       "16    MULTIPOLYGON (((-118.29592 33.79778, -118.2889...  \n",
       "22    MULTIPOLYGON (((-118.26426 34.14681, -118.2577...  \n",
       "25    MULTIPOLYGON (((-117.90895 34.14664, -117.9071...  \n",
       "...                                                 ...  \n",
       "3494  MULTIPOLYGON (((-118.30921 34.09489, -118.3056...  \n",
       "3522  MULTIPOLYGON (((-118.37179 34.22357, -118.3661...  \n",
       "3531  MULTIPOLYGON (((-118.43998 34.18666, -118.4312...  \n",
       "3534  MULTIPOLYGON (((-118.42266 34.24984, -118.4193...  \n",
       "3538  MULTIPOLYGON (((-117.12567 32.67917, -117.1249...  \n",
       "\n",
       "[434 rows x 3 columns]"
      ]
     },
     "execution_count": 27,
     "metadata": {},
     "output_type": "execute_result"
    }
   ],
   "source": [
    "gdf.loc[(gdf.Typology == 'Early/Ongoing Gentrification') | (gdf.Typology== 'Advanced Gentrification') |  (gdf.Typology== 'At Risk of Gentrification')]"
   ]
  },
  {
   "attachments": {},
   "cell_type": "markdown",
   "id": "7250612e",
   "metadata": {},
   "source": [
    "This output includes only the records in these three categories. We could save this data to a new variable by declaring it if we wanted to use it for future use."
   ]
  }
 ],
 "metadata": {
  "kernelspec": {
   "display_name": "uds",
   "language": "python",
   "name": "python3"
  },
  "language_info": {
   "codemirror_mode": {
    "name": "ipython",
    "version": 3
   },
   "file_extension": ".py",
   "mimetype": "text/x-python",
   "name": "python",
   "nbconvert_exporter": "python",
   "pygments_lexer": "ipython3",
   "version": "3.8.13"
  },
  "vscode": {
   "interpreter": {
    "hash": "6e9f3914a0d4a30cc7373a436d7ad0c4ba03867b2ec958722501e2ad2b568661"
   }
  }
 },
 "nbformat": 4,
 "nbformat_minor": 5
}
